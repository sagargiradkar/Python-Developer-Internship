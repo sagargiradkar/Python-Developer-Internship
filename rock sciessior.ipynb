{
 "cells": [
  {
   "cell_type": "code",
   "execution_count": 1,
   "id": "d1dcd593-fdad-44e4-b5c0-7a85a36e4fc1",
   "metadata": {},
   "outputs": [],
   "source": [
    "import tkinter as tk\n",
    "import random\n",
    "\n",
    "# Function to determine the winner of the game\n",
    "def determine_winner(user_choice, computer_choice):\n",
    "    if user_choice == computer_choice:\n",
    "        return \"It's a tie!\"\n",
    "    elif (\n",
    "        (user_choice == \"Rock\" and computer_choice == \"Scissors\")\n",
    "        or (user_choice == \"Paper\" and computer_choice == \"Rock\")\n",
    "        or (user_choice == \"Scissors\" and computer_choice == \"Paper\")\n",
    "    ):\n",
    "        return \"You win!\"\n",
    "    else:\n",
    "        return \"Computer wins!\"\n",
    "\n",
    "# Function to get the computer's choice\n",
    "def get_computer_choice():\n",
    "    choices = [\"Rock\", \"Paper\", \"Scissors\"]\n",
    "    return random.choice(choices)\n",
    "\n",
    "# Function to handle user's choice\n",
    "def user_choice(choice):\n",
    "    computer_choice = get_computer_choice()\n",
    "    result = determine_winner(choice, computer_choice)\n",
    "    result_label.config(text=f\"Computer chose {computer_choice}. {result}\")\n",
    "\n",
    "# Create the main window\n",
    "root = tk.Tk()\n",
    "root.geometry('600x600')\n",
    "root.title(\"Rock, Paper, Scissors\")\n",
    "\n",
    "# Create labels and buttons\n",
    "instruction_label = tk.Label(root, text=\"Choose Rock, Paper, or Scissors:\")\n",
    "instruction_label.pack()\n",
    "\n",
    "rock_button = tk.Button(root, text=\"Rock\", command=lambda: user_choice(\"Rock\"))\n",
    "rock_button.pack()\n",
    "\n",
    "paper_button = tk.Button(root, text=\"Paper\", command=lambda: user_choice(\"Paper\"))\n",
    "paper_button.pack()\n",
    "\n",
    "scissors_button = tk.Button(root, text=\"Scissors\", command=lambda: user_choice(\"Scissors\"))\n",
    "scissors_button.pack()\n",
    "\n",
    "result_label = tk.Label(root, text=\"\")\n",
    "result_label.pack()\n",
    "\n",
    "# Start the Tkinter main loop\n",
    "root.mainloop()\n"
   ]
  },
  {
   "cell_type": "code",
   "execution_count": null,
   "id": "045c225d-8ad2-4e33-9a79-473b5bcdfc6a",
   "metadata": {},
   "outputs": [],
   "source": []
  }
 ],
 "metadata": {
  "kernelspec": {
   "display_name": "Python 3 (ipykernel)",
   "language": "python",
   "name": "python3"
  },
  "language_info": {
   "codemirror_mode": {
    "name": "ipython",
    "version": 3
   },
   "file_extension": ".py",
   "mimetype": "text/x-python",
   "name": "python",
   "nbconvert_exporter": "python",
   "pygments_lexer": "ipython3",
   "version": "3.11.4"
  }
 },
 "nbformat": 4,
 "nbformat_minor": 5
}
