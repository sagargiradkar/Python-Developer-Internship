{
 "cells": [
  {
   "cell_type": "code",
   "execution_count": 2,
   "id": "6364d9c2-2f62-47a5-b2c4-e1e05a23e009",
   "metadata": {},
   "outputs": [],
   "source": [
    "import tkinter as tk\n",
    "\n",
    "# Function to update the display when a button is clicked\n",
    "def button_click(number):\n",
    "    current = entry.get()\n",
    "    entry.delete(0, tk.END)\n",
    "    entry.insert(0, current + str(number))\n",
    "\n",
    "# Function to clear the display\n",
    "def clear():\n",
    "    entry.delete(0, tk.END)\n",
    "\n",
    "# Function to perform calculations\n",
    "def calculate():\n",
    "    try:\n",
    "        result = eval(entry.get())\n",
    "        entry.delete(0, tk.END)\n",
    "        entry.insert(0, result)\n",
    "    except:\n",
    "        entry.delete(0, tk.END)\n",
    "        entry.insert(0, \"Error\")\n",
    "\n",
    "# Create the main window\n",
    "root = tk.Tk()\n",
    "root.geometry('600x600')\n",
    "root.title(\"Simple Calculator\")\n",
    "\n",
    "# Create an entry widget for the display\n",
    "entry = tk.Entry(root, width=20, font=(\"Helvetica\", 20))\n",
    "entry.grid(row=0, column=0, columnspan=4)\n",
    "\n",
    "# Define buttons\n",
    "buttons = [\n",
    "    '7', '8', '9', '/',\n",
    "    '4', '5', '6', '*',\n",
    "    '1', '2', '3', '-',\n",
    "    '0', '.', '=', '+'\n",
    "]\n",
    "\n",
    "# Create buttons and add them to the grid\n",
    "row_val = 1\n",
    "col_val = 0\n",
    "\n",
    "for button in buttons:\n",
    "    tk.Button(root, text=button, padx=20, pady=20, font=(\"Helvetica\", 20), command=lambda b=button: button_click(b) if b != '=' else calculate()).grid(row=row_val, column=col_val)\n",
    "    col_val += 1\n",
    "    if col_val > 3:\n",
    "        col_val = 0\n",
    "        row_val += 1\n",
    "\n",
    "# Create a clear button\n",
    "clear_button = tk.Button(root, text=\"C\", padx=20, pady=20, font=(\"Helvetica\", 20), command=clear)\n",
    "clear_button.grid(row=row_val, column=col_val)\n",
    "\n",
    "# Run the Tkinter main loop\n",
    "root.mainloop()\n"
   ]
  },
  {
   "cell_type": "code",
   "execution_count": null,
   "id": "b3067847-e255-4b6a-9402-7c70374ef843",
   "metadata": {},
   "outputs": [],
   "source": []
  }
 ],
 "metadata": {
  "kernelspec": {
   "display_name": "Python 3 (ipykernel)",
   "language": "python",
   "name": "python3"
  },
  "language_info": {
   "codemirror_mode": {
    "name": "ipython",
    "version": 3
   },
   "file_extension": ".py",
   "mimetype": "text/x-python",
   "name": "python",
   "nbconvert_exporter": "python",
   "pygments_lexer": "ipython3",
   "version": "3.11.4"
  }
 },
 "nbformat": 4,
 "nbformat_minor": 5
}
