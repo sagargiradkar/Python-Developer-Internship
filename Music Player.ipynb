{
 "cells": [
  {
   "cell_type": "code",
   "execution_count": 1,
   "metadata": {},
   "outputs": [
    {
     "name": "stdout",
     "output_type": "stream",
     "text": [
      "pygame 2.5.1 (SDL 2.28.2, Python 3.11.4)\n",
      "Hello from the pygame community. https://www.pygame.org/contribute.html\n"
     ]
    }
   ],
   "source": [
    "import tkinter as tk\n",
    "from tkinter import filedialog\n",
    "import pygame\n",
    "import os\n",
    "\n",
    "class MusicPlayer:\n",
    "    def __init__(self, root):\n",
    "        self.root = root\n",
    "        self.root.title(\"Music Player\")\n",
    "        self.root.geometry(\"400x200\")\n",
    "\n",
    "        # Initialize Pygame mixer\n",
    "        pygame.mixer.init()\n",
    "\n",
    "        # Create playlist\n",
    "        self.playlist = []\n",
    "\n",
    "        # Create current track variable\n",
    "        self.current_track = tk.StringVar()\n",
    "        self.status = tk.StringVar()\n",
    "\n",
    "        # Create track label\n",
    "        self.track_label = tk.Label(root, textvariable=self.current_track, font=(\"Helvetica\", 12))\n",
    "        self.track_label.pack(pady=10)\n",
    "\n",
    "        # Create buttons\n",
    "        self.play_button = tk.Button(root, text=\"Play\", command=self.play)\n",
    "        self.pause_button = tk.Button(root, text=\"Pause\", command=self.pause)\n",
    "        self.stop_button = tk.Button(root, text=\"Stop\", command=self.stop)\n",
    "        self.add_button = tk.Button(root, text=\"Add Song\", command=self.add_song)\n",
    "        self.play_button.pack()\n",
    "        self.pause_button.pack()\n",
    "        self.stop_button.pack()\n",
    "        self.add_button.pack()\n",
    "        \n",
    "        # Create status label\n",
    "        self.status_label = tk.Label(root, textvariable=self.status, font=(\"Helvetica\", 10))\n",
    "        self.status_label.pack(pady=10)\n",
    "\n",
    "    def add_song(self):\n",
    "        song = filedialog.askopenfilename(filetypes=[(\"Audio Files\", \"*.mp3 *.wav\")])\n",
    "        if song:\n",
    "            self.playlist.append(song)\n",
    "            self.current_track.set(os.path.basename(song))\n",
    "            self.status.set(\"Track added to playlist\")\n",
    "\n",
    "    def play(self):\n",
    "        if self.playlist:\n",
    "            pygame.mixer.music.load(self.playlist[0])\n",
    "            pygame.mixer.music.play()\n",
    "            self.status.set(\"Playing\")\n",
    "\n",
    "    def pause(self):\n",
    "        pygame.mixer.music.pause()\n",
    "        self.status.set(\"Paused\")\n",
    "\n",
    "    def stop(self):\n",
    "        pygame.mixer.music.stop()\n",
    "        self.status.set(\"Stopped\")\n",
    "\n",
    "if __name__ == \"__main__\":\n",
    "    root = tk.Tk()\n",
    "    root.geometry('600x600')\n",
    "    app = MusicPlayer(root)\n",
    "    root.mainloop()\n"
   ]
  },
  {
   "cell_type": "code",
   "execution_count": null,
   "id": "f58f920b",
   "metadata": {},
   "outputs": [],
   "source": []
  }
 ],
 "metadata": {
  "kernelspec": {
   "display_name": "Python 3",
   "language": "python",
   "name": "python3"
  },
  "language_info": {
   "codemirror_mode": {
    "name": "ipython",
    "version": 3
   },
   "file_extension": ".py",
   "mimetype": "text/x-python",
   "name": "python",
   "nbconvert_exporter": "python",
   "pygments_lexer": "ipython3",
   "version": "3.11.4"
  }
 },
 "nbformat": 4,
 "nbformat_minor": 5
}
