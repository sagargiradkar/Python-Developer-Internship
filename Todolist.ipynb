{
 "cells": [
  {
   "cell_type": "code",
   "execution_count": null,
   "id": "4ed4b6ff-3f00-4164-9b9c-c678e85ec739",
   "metadata": {},
   "outputs": [],
   "source": [
    "import tkinter as tk\n",
    "from tkinter import messagebox\n",
    "\n",
    "def add_task():\n",
    "    task = entry.get()\n",
    "    if task:\n",
    "        listbox.insert(tk.END, task)\n",
    "        entry.delete(0, tk.END)\n",
    "    else:\n",
    "        messagebox.showwarning(\"Warning\", \"Please enter a task.\")\n",
    "\n",
    "def delete_task():\n",
    "    try:\n",
    "        selected_task = listbox.curselection()[0]\n",
    "        listbox.delete(selected_task)\n",
    "    except IndexError:\n",
    "        messagebox.showwarning(\"Warning\", \"Please select a task to delete.\")\n",
    "\n",
    "def mark_completed():\n",
    "    try:\n",
    "        selected_task = listbox.curselection()[0]\n",
    "        listbox.itemconfig(selected_task, {'bg': 'light green', 'fg': 'gray'})\n",
    "    except IndexError:\n",
    "        messagebox.showwarning(\"Warning\", \"Please select a task to mark as completed.\")\n",
    "\n",
    "# Create the main window\n",
    "root = tk.Tk()\n",
    "root.geometry('600x600')\n",
    "root.title(\"To-Do List\")\n",
    "\n",
    "# Create a listbox to display tasks\n",
    "listbox = tk.Listbox(root, selectbackground=\"yellow\")\n",
    "listbox.pack(pady=10)\n",
    "\n",
    "# Create an entry widget to add tasks\n",
    "entry = tk.Entry(root, width=40)\n",
    "entry.pack()\n",
    "\n",
    "# Create buttons to add, delete, and mark tasks as completed\n",
    "add_button = tk.Button(root, text=\"Add Task\", command=add_task)\n",
    "delete_button = tk.Button(root, text=\"Delete Task\", command=delete_task)\n",
    "completed_button = tk.Button(root, text=\"Mark Completed\", command=mark_completed)\n",
    "\n",
    "add_button.pack(pady=5)\n",
    "delete_button.pack(pady=5)\n",
    "completed_button.pack(pady=5)\n",
    "\n",
    "root.mainloop()\n"
   ]
  },
  {
   "cell_type": "code",
   "execution_count": null,
   "id": "011baf8f-6b32-4004-81e3-55ee3b25dd36",
   "metadata": {},
   "outputs": [],
   "source": []
  }
 ],
 "metadata": {
  "kernelspec": {
   "display_name": "Python 3 (ipykernel)",
   "language": "python",
   "name": "python3"
  },
  "language_info": {
   "codemirror_mode": {
    "name": "ipython",
    "version": 3
   },
   "file_extension": ".py",
   "mimetype": "text/x-python",
   "name": "python",
   "nbconvert_exporter": "python",
   "pygments_lexer": "ipython3",
   "version": "3.11.4"
  }
 },
 "nbformat": 4,
 "nbformat_minor": 5
}
