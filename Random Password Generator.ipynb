{
 "cells": [
  {
   "cell_type": "code",
   "execution_count": null,
   "id": "17741635-0961-469a-9ce7-84cfde7b463f",
   "metadata": {},
   "outputs": [],
   "source": [
    "import tkinter as tk\n",
    "import random\n",
    "import string\n",
    "\n",
    "# Function to generate a random password\n",
    "def generate_password():\n",
    "    password_length = int(length_entry.get())\n",
    "    if password_length < 1:\n",
    "        password_result.config(text=\"Password length should be at least 1\")\n",
    "        return\n",
    "\n",
    "    characters = string.ascii_letters + string.digits + string.punctuation\n",
    "    password = ''.join(random.choice(characters) for _ in range(password_length))\n",
    "    password_result.config(text=\"Generated Password: \" + password)\n",
    "\n",
    "# Create the main window\n",
    "root = tk.Tk()\n",
    "root.geometry('600x600')\n",
    "root.title(\"Random Password Generator\")\n",
    "\n",
    "# Label\n",
    "length_label = tk.Label(root, text=\"Password Length:\")\n",
    "length_label.pack()\n",
    "\n",
    "# Entry for password length\n",
    "length_entry = tk.Entry(root)\n",
    "length_entry.pack()\n",
    "\n",
    "# Button to generate password\n",
    "generate_button = tk.Button(root, text=\"Generate Password\", command=generate_password)\n",
    "generate_button.pack()\n",
    "\n",
    "# Display area for the generated password\n",
    "password_result = tk.Label(root, text=\"\")\n",
    "password_result.pack()\n",
    "\n",
    "# Start the tkinter main loop\n",
    "root.mainloop()\n"
   ]
  },
  {
   "cell_type": "code",
   "execution_count": null,
   "id": "a3b5aab8-b5a1-4a5b-9900-73db1a988227",
   "metadata": {},
   "outputs": [],
   "source": []
  }
 ],
 "metadata": {
  "kernelspec": {
   "display_name": "Python 3 (ipykernel)",
   "language": "python",
   "name": "python3"
  },
  "language_info": {
   "codemirror_mode": {
    "name": "ipython",
    "version": 3
   },
   "file_extension": ".py",
   "mimetype": "text/x-python",
   "name": "python",
   "nbconvert_exporter": "python",
   "pygments_lexer": "ipython3",
   "version": "3.11.4"
  }
 },
 "nbformat": 4,
 "nbformat_minor": 5
}
