{
 "cells": [
  {
   "cell_type": "code",
   "execution_count": 1,
   "metadata": {},
   "outputs": [],
   "source": [
    "import tkinter as tk\n",
    "\n",
    "def convert_temperature():\n",
    "    try:\n",
    "        temperature = float(entry.get())\n",
    "        if var.get() == 1:\n",
    "            result.set(f\"{(temperature - 32) * 5/9:.2f} Celsius\")\n",
    "        else:\n",
    "            result.set(f\"{temperature * 9/5 + 32:.2f} Fahrenheit\")\n",
    "    except ValueError:\n",
    "        result.set(\"Invalid input\")\n",
    "\n",
    "# Create the main window\n",
    "window = tk.Tk()\n",
    "window.geometry('600x600')\n",
    "window.title(\"Temperature Converter\")\n",
    "\n",
    "# Create an Entry widget for user input\n",
    "entry_label = tk.Label(window, text=\"Enter Temperature:\")\n",
    "entry_label.pack()\n",
    "entry = tk.Entry(window)\n",
    "entry.pack()\n",
    "\n",
    "# Create a radio button to select the conversion type\n",
    "var = tk.IntVar()\n",
    "fahrenheit_radio = tk.Radiobutton(window, text=\"Fahrenheit to Celsius\", variable=var, value=1)\n",
    "celsius_radio = tk.Radiobutton(window, text=\"Celsius to Fahrenheit\", variable=var, value=2)\n",
    "fahrenheit_radio.pack()\n",
    "celsius_radio.pack()\n",
    "\n",
    "# Create a button to perform the conversion\n",
    "convert_button = tk.Button(window, text=\"Convert\", command=convert_temperature)\n",
    "convert_button.pack()\n",
    "\n",
    "# Create a label to display the result\n",
    "result = tk.StringVar()\n",
    "result_label = tk.Label(window, textvariable=result)\n",
    "result_label.pack()\n",
    "\n",
    "# Start the Tkinter main loop\n",
    "window.mainloop()\n"
   ]
  },
  {
   "cell_type": "code",
   "execution_count": null,
   "id": "3a90e787",
   "metadata": {},
   "outputs": [],
   "source": []
  }
 ],
 "metadata": {
  "kernelspec": {
   "display_name": "Python 3",
   "language": "python",
   "name": "python3"
  },
  "language_info": {
   "codemirror_mode": {
    "name": "ipython",
    "version": 3
   },
   "file_extension": ".py",
   "mimetype": "text/x-python",
   "name": "python",
   "nbconvert_exporter": "python",
   "pygments_lexer": "ipython3",
   "version": "3.11.4"
  }
 },
 "nbformat": 4,
 "nbformat_minor": 5
}
